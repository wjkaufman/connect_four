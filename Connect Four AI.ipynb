{
 "cells": [
  {
   "cell_type": "markdown",
   "metadata": {},
   "source": [
    "# Connect Four AI\n",
    "\n",
    "Wassup! I have no idea what I'm doing, but here goes.\n",
    "\n",
    "So I _finally_ coded up a working Connect Four game in Python, and now comes the fun part. I'm going to follow the style of the tutorial on Medium and start with a simple Q-table implementation."
   ]
  },
  {
   "cell_type": "code",
   "execution_count": null,
   "metadata": {
    "scrolled": true
   },
   "outputs": [],
   "source": [
    "from ConnectFour import Game\n",
    "import numpy as np\n",
    "\n",
    "g = Game()\n",
    "g.play(0) # player 1 move\n",
    "g.play(0) # player 2 move\n",
    "g.play(1) # and back to player 1"
   ]
  },
  {
   "cell_type": "markdown",
   "metadata": {},
   "source": [
    "Above is a sample output of what the computer gets for each move: a \"reward\" (only nonzero when you win/lose), the state of the board, and an indication of whether the game is over or not."
   ]
  },
  {
   "cell_type": "markdown",
   "metadata": {},
   "source": [
    "## Constructing the Neural Network"
   ]
  },
  {
   "cell_type": "code",
   "execution_count": 9,
   "metadata": {
    "scrolled": false
   },
   "outputs": [
    {
     "name": "stdout",
     "output_type": "stream",
     "text": [
      "INFO:tensorflow:Restoring parameters from ./saved/model_2\n",
      "On episode 0\n",
      "On episode 100\n",
      "On episode 200\n",
      "On episode 300\n",
      "On episode 400\n",
      "On episode 500\n",
      "On episode 600\n",
      "On episode 700\n",
      "On episode 800\n",
      "On episode 900\n",
      "Trained model saved to ./saved/model_3\n",
      "Percent successful episodes: 99.8%\n"
     ]
    }
   ],
   "source": [
    "from ConnectFour import Game\n",
    "import numpy as np\n",
    "import tensorflow as tf\n",
    "import matplotlib.pyplot as plt\n",
    "%matplotlib inline\n",
    "\n",
    "g = Game()\n",
    "\n",
    "# constructing the network\n",
    "tf.reset_default_graph()\n",
    "inputs1 = tf.placeholder(shape=[1,84], dtype=tf.float32) # the input is the current state, i.e. the entire board\n",
    "W = tf.Variable(tf.random_uniform([84,7], 0, 0.1)) # the weights for a single layer network are this\n",
    "Qout = tf.matmul(inputs1, W) # predicting Q values using network\n",
    "predict = tf.argmax(Qout, 1) # finding best predicted action from Qout\n",
    "\n",
    "# constructing the loss function\n",
    "nextQ = tf.placeholder(shape=[1,7], dtype=tf.float32)\n",
    "loss = tf.reduce_sum(tf.square(nextQ - Qout))\n",
    "trainer = tf.train.GradientDescentOptimizer(learning_rate=0.05)\n",
    "updateModel = trainer.minimize(loss)\n",
    "\n",
    "# some magic initializer or something, and a saver\n",
    "init = tf.global_variables_initializer()\n",
    "saver = tf.train.Saver()\n",
    "\n",
    "# hyperparameters\n",
    "y = 0.99 # discount rate for Bellman equation\n",
    "e = 0.1 # chance of random action being taken\n",
    "n_episodes = 1000\n",
    "\n",
    "jList = [] # number of steps for each game\n",
    "rList = [] # maximum reward for each game\n",
    "\n",
    "model_num = 3\n",
    "\n",
    "with tf.Session() as sess:\n",
    "    sess.run(init)\n",
    "    \n",
    "    # restore if I'm picking up from a previously saved model\n",
    "    saver.restore(sess, \"./saved/model_2\")\n",
    "    \n",
    "    for i in range(n_episodes):\n",
    "        if i%100 is 0:\n",
    "            print('On episode {}'.format(i))\n",
    "        \n",
    "        # reset the game\n",
    "        g.reset()\n",
    "        rAll = 0\n",
    "        d = False\n",
    "        j = 0\n",
    "        sPrev = None # the previous state at turn's start for the opposing player\n",
    "        aPrev = None # the previous action by opposing player\n",
    "        allQPrev = None # the previous set of Q values for opposing player\n",
    "        maxQ1Prev = None # the maximum predicted Q value after action by opposing player\n",
    "        while j < 99:\n",
    "            j += 1\n",
    "            s = g.getState()\n",
    "            a, allQ = sess.run([predict, Qout], feed_dict={inputs1:s.reshape((1,84))})\n",
    "            # pick a random move\n",
    "            if np.random.rand(1) < e:\n",
    "                a[0] = np.random.randint(7) \n",
    "            # make the move, get the reward\n",
    "            while True: # ensures it makes a move\n",
    "                try:\n",
    "                    s1, r, d = g.play(a[0])\n",
    "                    break\n",
    "                except:\n",
    "                    # first check if game is still playable\n",
    "                    if g.isPlayable():\n",
    "                        a[0] = np.random.randint(7)\n",
    "                    else:\n",
    "                        s1 = s\n",
    "                        r = 0\n",
    "                        d = True\n",
    "                        break\n",
    "            # train the model based on the reward the person got\n",
    "            Q1 = sess.run(Qout, {inputs1:s1.reshape((1,84))})\n",
    "            maxQ1 = np.max(Q1)\n",
    "            targetQ = allQ\n",
    "            # not sure why it's 0, a[0] here... Wait, I think it's because\n",
    "            # targetQ is 1x7 vector, and only want to update the Q value for\n",
    "            # the given state/action pair\n",
    "            targetQ[0, a[0]] = r + y*maxQ1\n",
    "            # train model based on new value\n",
    "            _, W1 = sess.run([updateModel, W], {inputs1: s.reshape((1,84)), nextQ: targetQ})\n",
    "            \n",
    "            # penalize bad moves by players if the other one wins\n",
    "            if sPrev is not None and r is 1:\n",
    "                targetQ = allQPrev\n",
    "                targetQ[0, aPrev[0]] = -1 + y*maxQ1Prev\n",
    "                _, W1 = sess.run([updateModel, W], {inputs1: sPrev.reshape((1,84)), nextQ: targetQ})\n",
    "            \n",
    "            # keep track of total rewards (will be 1/game if someone wins)\n",
    "            rAll += r\n",
    "            \n",
    "            # keep track of the player's state and moves\n",
    "            sPrev = s\n",
    "            aPrev = a\n",
    "            allQPrev = allQ\n",
    "            maxQ1Prev = maxQ1\n",
    "            if d:\n",
    "                e = 1. / ((i/50.) + 10)\n",
    "                break\n",
    "        \n",
    "        jList.append(j)\n",
    "        rList.append(rAll)\n",
    "    \n",
    "    # save the current model and vars to file\n",
    "    savePath = saver.save(sess, './saved/model_{}'.format(model_num))\n",
    "    print('Trained model saved to {}'.format(savePath))\n",
    "\n",
    "print('Percent successful episodes: {}%'.format(sum(rList)/n_episodes * 100))"
   ]
  },
  {
   "cell_type": "code",
   "execution_count": 10,
   "metadata": {
    "scrolled": false
   },
   "outputs": [
    {
     "data": {
      "text/plain": [
       "[<matplotlib.lines.Line2D at 0x119569748>]"
      ]
     },
     "execution_count": 10,
     "metadata": {},
     "output_type": "execute_result"
    },
    {
     "data": {
      "image/png": "[encoded data removed]",
      "text/plain": [
       "<matplotlib.figure.Figure at 0x1195f55c0>"
      ]
     },
     "metadata": {},
     "output_type": "display_data"
    }
   ],
   "source": [
    "plt.plot(rList)"
   ]
  },
  {
   "cell_type": "code",
   "execution_count": 11,
   "metadata": {
    "scrolled": true
   },
   "outputs": [
    {
     "data": {
      "text/plain": [
       "[<matplotlib.lines.Line2D at 0x119968438>]"
      ]
     },
     "execution_count": 11,
     "metadata": {},
     "output_type": "execute_result"
    },
    {
     "data": {
      "image/png": "[encoded data removed]",
      "text/plain": [
       "<matplotlib.figure.Figure at 0x11965e5f8>"
      ]
     },
     "metadata": {},
     "output_type": "display_data"
    }
   ],
   "source": [
    "plt.plot(jList)"
   ]
  },
  {
   "cell_type": "markdown",
   "metadata": {},
   "source": [
    "### So... What did I just do?\n",
    "\n",
    "I'm not really sure, but the computer did run 2000 episodes of Connect Four and (possibly) trained the Q-network to play. I'm not really sure how to test it, and I've got to run to practice now, but I'll return to this when I get back.\n",
    "\n",
    "Ok! So I messed around with some stuff above to save/reload models, and now below I'm going to try to implement a me-vs-machine game thingy."
   ]
  },
  {
   "cell_type": "code",
   "execution_count": 14,
   "metadata": {
    "scrolled": true
   },
   "outputs": [
    {
     "name": "stdout",
     "output_type": "stream",
     "text": [
      "INFO:tensorflow:Restoring parameters from ./saved/model_3\n",
      "-\t-\t-\t-\t-\t-\t-\t\n",
      "-\t-\t-\t-\t-\t-\t-\t\n",
      "-\t-\t-\t-\t-\t-\t-\t\n",
      "-\t-\t-\t-\t-\t-\t-\t\n",
      "-\t-\t-\t-\t-\t-\t-\t\n",
      "-\t-\t-\t-\t-\t-\t-\t\n",
      "---\t---\t---\t---\t---\t---\t---\t\n",
      "1\t2\t3\t4\t5\t6\t7\n",
      "current player is 1\n",
      "Human, enter move: 1\n",
      "Computer is thinking...\n",
      "Computer's thought process (Q-values):\n",
      "[ 0.07198504  0.11882721  0.31894577  0.12519966  0.19044846  0.07169049\n",
      "  0.10290337]\n",
      "Computer is making move...\n",
      "Computer made move in column 3.\n",
      "-\t-\t-\t-\t-\t-\t-\t\n",
      "-\t-\t-\t-\t-\t-\t-\t\n",
      "-\t-\t-\t-\t-\t-\t-\t\n",
      "-\t-\t-\t-\t-\t-\t-\t\n",
      "-\t-\t-\t-\t-\t-\t-\t\n",
      "1\t-\t2\t-\t-\t-\t-\t\n",
      "---\t---\t---\t---\t---\t---\t---\t\n",
      "1\t2\t3\t4\t5\t6\t7\n",
      "current player is 1\n",
      "Human, enter move: 2\n",
      "Computer is thinking...\n",
      "Computer's thought process (Q-values):\n",
      "[ 0.08588547  0.12813252  0.20020656  0.1470075   0.22380304  0.10044353\n",
      "  0.11452139]\n",
      "Computer is making move...\n",
      "Computer made move in column 5.\n",
      "-\t-\t-\t-\t-\t-\t-\t\n",
      "-\t-\t-\t-\t-\t-\t-\t\n",
      "-\t-\t-\t-\t-\t-\t-\t\n",
      "-\t-\t-\t-\t-\t-\t-\t\n",
      "-\t-\t-\t-\t-\t-\t-\t\n",
      "1\t1\t2\t-\t2\t-\t-\t\n",
      "---\t---\t---\t---\t---\t---\t---\t\n",
      "1\t2\t3\t4\t5\t6\t7\n",
      "current player is 1\n",
      "Human, enter move: 2\n",
      "Computer is thinking...\n",
      "Computer's thought process (Q-values):\n",
      "[ 0.09314031  0.13393798  0.17882188  0.15399544  0.19544096  0.12703355\n",
      "  0.11762986]\n",
      "Computer is making move...\n",
      "Computer made move in column 5.\n",
      "-\t-\t-\t-\t-\t-\t-\t\n",
      "-\t-\t-\t-\t-\t-\t-\t\n",
      "-\t-\t-\t-\t-\t-\t-\t\n",
      "-\t-\t-\t-\t-\t-\t-\t\n",
      "-\t1\t-\t-\t2\t-\t-\t\n",
      "1\t1\t2\t-\t2\t-\t-\t\n",
      "---\t---\t---\t---\t---\t---\t---\t\n",
      "1\t2\t3\t4\t5\t6\t7\n",
      "current player is 1\n",
      "Human, enter move: 3\n",
      "Computer is thinking...\n",
      "Computer's thought process (Q-values):\n",
      "[ 0.09647888  0.12923248  0.16719684  0.16362058  0.17793551  0.14565739\n",
      "  0.1198783 ]\n",
      "Computer is making move...\n",
      "Computer made move in column 5.\n",
      "-\t-\t-\t-\t-\t-\t-\t\n",
      "-\t-\t-\t-\t-\t-\t-\t\n",
      "-\t-\t-\t-\t-\t-\t-\t\n",
      "-\t-\t-\t-\t2\t-\t-\t\n",
      "-\t1\t1\t-\t2\t-\t-\t\n",
      "1\t1\t2\t-\t2\t-\t-\t\n",
      "---\t---\t---\t---\t---\t---\t---\t\n",
      "1\t2\t3\t4\t5\t6\t7\n",
      "current player is 1\n",
      "Human, enter move: 5\n",
      "Computer is thinking...\n",
      "Computer's thought process (Q-values):\n",
      "[ 0.10067439  0.12614755  0.16106054  0.17412959  0.15954171  0.15566723\n",
      "  0.12277898]\n",
      "Computer is making move...\n",
      "Computer made move in column 4.\n",
      "-\t-\t-\t-\t-\t-\t-\t\n",
      "-\t-\t-\t-\t-\t-\t-\t\n",
      "-\t-\t-\t-\t1\t-\t-\t\n",
      "-\t-\t-\t-\t2\t-\t-\t\n",
      "-\t1\t1\t-\t2\t-\t-\t\n",
      "1\t1\t2\t2\t2\t-\t-\t\n",
      "---\t---\t---\t---\t---\t---\t---\t\n",
      "1\t2\t3\t4\t5\t6\t7\n",
      "current player is 1\n",
      "Human, enter move: 6\n",
      "Computer is thinking...\n",
      "Computer's thought process (Q-values):\n",
      "[ 0.10944929  0.12299191  0.1496952   0.1662908   0.15655831  0.16085204\n",
      "  0.13416244]\n",
      "Computer is making move...\n",
      "Computer made move in column 4.\n",
      "-\t-\t-\t-\t-\t-\t-\t\n",
      "-\t-\t-\t-\t-\t-\t-\t\n",
      "-\t-\t-\t-\t1\t-\t-\t\n",
      "-\t-\t-\t-\t2\t-\t-\t\n",
      "-\t1\t1\t2\t2\t-\t-\t\n",
      "1\t1\t2\t2\t2\t1\t-\t\n",
      "---\t---\t---\t---\t---\t---\t---\t\n",
      "1\t2\t3\t4\t5\t6\t7\n",
      "current player is 1\n",
      "Human, enter move: 3\n",
      "Computer is thinking...\n",
      "Computer's thought process (Q-values):\n",
      "[ 0.1131518   0.12684382  0.14441147  0.15712975  0.15613383  0.17075242\n",
      "  0.13157691]\n",
      "Computer is making move...\n",
      "Computer made move in column 6.\n",
      "-\t-\t-\t-\t-\t-\t-\t\n",
      "-\t-\t-\t-\t-\t-\t-\t\n",
      "-\t-\t-\t-\t1\t-\t-\t\n",
      "-\t-\t1\t-\t2\t-\t-\t\n",
      "-\t1\t1\t2\t2\t2\t-\t\n",
      "1\t1\t2\t2\t2\t1\t-\t\n",
      "---\t---\t---\t---\t---\t---\t---\t\n",
      "1\t2\t3\t4\t5\t6\t7\n",
      "current player is 1\n",
      "Human, enter move: 4\n",
      "Winner was 1\n",
      "-\t-\t-\t-\t-\t-\t-\t\n",
      "-\t-\t-\t-\t-\t-\t-\t\n",
      "-\t-\t-\t-\t1\t-\t-\t\n",
      "-\t-\t1\t1\t2\t-\t-\t\n",
      "-\t1\t1\t2\t2\t2\t-\t\n",
      "1\t1\t2\t2\t2\t1\t-\t\n",
      "---\t---\t---\t---\t---\t---\t---\t\n",
      "1\t2\t3\t4\t5\t6\t7\n"
     ]
    }
   ],
   "source": [
    "# create a game\n",
    "g = Game()\n",
    "\n",
    "with tf.Session() as sess:\n",
    "    new_saver = tf.train.import_meta_graph('./saved/model_3.meta')\n",
    "    new_saver.restore(sess, tf.train.latest_checkpoint('./saved'))\n",
    "    \n",
    "    d = False\n",
    "    while not d:\n",
    "        print(g)\n",
    "        # get human input\n",
    "        while True:\n",
    "            try:\n",
    "                play = int(input(\"Human, enter move: \")) - 1\n",
    "                _, r, d = g.play(play)\n",
    "                break\n",
    "            except:\n",
    "                if g.isPlayable():\n",
    "                    print(\"Error, try again\")\n",
    "                else:\n",
    "                    d = True\n",
    "                    break\n",
    "        if d:\n",
    "            break\n",
    "        # then get computer input, first predict best move from Q-network\n",
    "        print(\"Computer is thinking...\")\n",
    "        s = g.getState()\n",
    "        a, allQ = sess.run([predict, Qout], {inputs1: s.reshape((1,84))})\n",
    "        print(\"Computer's thought process (Q-values):\")\n",
    "        print(allQ[0] / sum(allQ[0]))\n",
    "        # then make the move\n",
    "        print(\"Computer is making move...\")\n",
    "        while True:\n",
    "            try:\n",
    "                _, r, d = g.play(a[0])\n",
    "                break\n",
    "            except:\n",
    "                if g.isPlayable():\n",
    "                    a[0] = np.random.randint(7)\n",
    "                else:\n",
    "                    d = True\n",
    "                    break\n",
    "        print(\"Computer made move in column {}.\".format(a[0] + 1))\n",
    "    print(\"Winner was {}\".format(g.getWinner()))\n",
    "    print(g.board)"
   ]
  }
 ],
 "metadata": {
  "kernelspec": {
   "display_name": "Python 3",
   "language": "python",
   "name": "python3"
  },
  "language_info": {
   "codemirror_mode": {
    "name": "ipython",
    "version": 3
   },
   "file_extension": ".py",
   "mimetype": "text/x-python",
   "name": "python",
   "nbconvert_exporter": "python",
   "pygments_lexer": "ipython3",
   "version": "3.6.3"
  }
 },
 "nbformat": 4,
 "nbformat_minor": 2
}
